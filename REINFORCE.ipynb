{
 "cells": [
  {
   "cell_type": "code",
   "execution_count": 3,
   "metadata": {
    "id": "5uLx2AuzOJe-"
   },
   "outputs": [],
   "source": [
    "import numpy as np\n",
    "import torch\n",
    "import torch.nn as nn\n",
    "import torch.optim as optim\n",
    "from torch.distributions import Categorical\n",
    "import gym"
   ]
  },
  {
   "cell_type": "code",
   "execution_count": 12,
   "metadata": {
    "id": "uMY7rb5mPC05"
   },
   "outputs": [],
   "source": [
    "class Policy(nn.Module):\n",
    "  def __init__(self, in_dim, out_dim):\n",
    "    super(Policy, self).__init__()\n",
    "\n",
    "    layers = [\n",
    "              nn.Linear(in_dim, 128),\n",
    "              nn.ReLU(),\n",
    "              nn.Linear(128, out_dim)\n",
    "    ]\n",
    "    self.model = nn.Sequential(*layers)\n",
    "    self.onpolicy_reset()\n",
    "    self.train()\n",
    "\n",
    "  def onpolicy_reset(self):\n",
    "    self.log_probabilities = []\n",
    "    self.rewards = []\n",
    "\n",
    "  def forward(self, x):\n",
    "    return self.model(x)\n",
    "\n",
    "  def take_action(self, current_state):\n",
    "    x = torch.from_numpy(current_state.astype('float32'))\n",
    "    probability_distribution_parameters = self.forward(x)\n",
    "    probability_distribution = Categorical(logits=probability_distribution_parameters)\n",
    "    action = probability_distribution.sample()\n",
    "    log_probability = probability_distribution.log_prob(action)\n",
    "    self.log_probabilities.append(log_probability)\n",
    "    return action.item()"
   ]
  },
  {
   "cell_type": "code",
   "execution_count": 13,
   "metadata": {
    "id": "vGbpnGPFRxTH"
   },
   "outputs": [],
   "source": [
    "gamma = 0.99\n",
    "\n",
    "def train(policy, optimizer):\n",
    "  tau = len(policy.rewards)\n",
    "  returns = np.empty(tau, dtype=np.float32)\n",
    "  future_returns = 0.0\n",
    "\n",
    "  for t in reversed(range(tau)):\n",
    "    future_returns = policy.rewards[t] + gamma * future_returns\n",
    "    returns[t] = future_returns\n",
    "\n",
    "  returns = torch.tensor(returns)\n",
    "  log_probabilities = torch.stack(policy.log_probabilities)\n",
    "\n",
    "  loss = -log_probabilities * returns\n",
    "  loss = torch.sum(loss)\n",
    "\n",
    "  optimizer.zero_grad()\n",
    "  loss.backward()\n",
    "  optimizer.step()\n",
    "  \n",
    "  return loss"
   ]
  },
  {
   "cell_type": "code",
   "execution_count": 18,
   "metadata": {
    "id": "ctI2obDpTmkP"
   },
   "outputs": [],
   "source": [
    "def main():\n",
    "  env = gym.make('CartPole-v0')\n",
    "  in_dim = env.observation_space.shape[0]\n",
    "  out_dim = env.action_space.n\n",
    "  policy = Policy(in_dim, out_dim)\n",
    "  optimizer = optim.Adam(policy.parameters(), lr=0.01)\n",
    "\n",
    "  for episode in range(300):\n",
    "    state = env.reset()\n",
    "\n",
    "    for t in range(200):\n",
    "      action = policy.take_action(state)\n",
    "      state, reward, done, _ = env.step(action)\n",
    "      policy.rewards.append(reward)\n",
    "      env.render()\n",
    "\n",
    "      if done:\n",
    "        break\n",
    "\n",
    "  loss = train(policy, optimizer)\n",
    "  total_reward = sum(policy.rewards)\n",
    "  solved = total_reward > 195.0\n",
    "\n",
    "  policy.onpolicy_reset()\n",
    "  print(f'Episode {episode}, loss: {loss}, total_reward: {total_reward}, action: {action}, solved: {solved}')"
   ]
  },
  {
   "cell_type": "code",
   "execution_count": 19,
   "metadata": {
    "colab": {
     "base_uri": "https://localhost:8080/",
     "height": 1000
    },
    "id": "8ISNqFf2UiTH",
    "outputId": "7b4b3f06-31d6-4c04-94e0-93a8ff39d402"
   },
   "outputs": [
    {
     "name": "stdout",
     "output_type": "stream",
     "text": [
      "Episode 299, loss: 380400.375, total_reward: 5751.0, action: 0, solved: True\n"
     ]
    }
   ],
   "source": [
    "main()"
   ]
  },
  {
   "cell_type": "code",
   "execution_count": null,
   "metadata": {
    "id": "HxEz32iyUjWz"
   },
   "outputs": [],
   "source": []
  }
 ],
 "metadata": {
  "accelerator": "GPU",
  "colab": {
   "collapsed_sections": [],
   "name": "REINFORCE",
   "provenance": []
  },
  "kernelspec": {
   "display_name": "Python 3",
   "language": "python",
   "name": "python3"
  },
  "language_info": {
   "codemirror_mode": {
    "name": "ipython",
    "version": 3
   },
   "file_extension": ".py",
   "mimetype": "text/x-python",
   "name": "python",
   "nbconvert_exporter": "python",
   "pygments_lexer": "ipython3",
   "version": "3.7.3"
  }
 },
 "nbformat": 4,
 "nbformat_minor": 1
}
